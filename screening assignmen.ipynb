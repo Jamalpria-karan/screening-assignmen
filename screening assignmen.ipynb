{
 "cells": [
  {
   "cell_type": "code",
   "execution_count": 6,
   "id": "a4ddecbb",
   "metadata": {},
   "outputs": [],
   "source": [
    "#creating a text file \n",
    "f=open('example.txt','w')\n",
    "f.write('This is a placement assignment')\n",
    "f.close()"
   ]
  },
  {
   "cell_type": "code",
   "execution_count": 7,
   "id": "0c847ac6",
   "metadata": {},
   "outputs": [],
   "source": [
    "#replacing the text\n",
    "search_text = \"placement\"\n",
    "replace_text = \"screening\"\n",
    "with open(r'example.txt', 'r') as file:\n",
    "    data = file.read()\n",
    "    data = data.replace(search_text, replace_text)\n",
    "\n",
    "with open(r'example4.txt', 'w') as file:\n",
    "    file.write(data)\n",
    "\n"
   ]
  },
  {
   "cell_type": "code",
   "execution_count": null,
   "id": "cc847504",
   "metadata": {},
   "outputs": [],
   "source": []
  },
  {
   "cell_type": "code",
   "execution_count": null,
   "id": "37b52326",
   "metadata": {},
   "outputs": [],
   "source": [
    "#decorators,inheritance and abstract class."
   ]
  },
  {
   "cell_type": "code",
   "execution_count": 20,
   "id": "99db20ac",
   "metadata": {},
   "outputs": [],
   "source": [
    "from abc import ABC\n",
    "\n",
    "\n",
    "class AbstractClassName(ABC):\n",
    "    pass\n"
   ]
  },
  {
   "cell_type": "code",
   "execution_count": 21,
   "id": "068bb70d",
   "metadata": {},
   "outputs": [],
   "source": [
    "from abc import ABC, abstractmethod\n",
    "\n",
    "\n",
    "class AbstractClassName(ABC):\n",
    "    @abstractmethod\n",
    "    def abstract_method_name(self):\n",
    "        pass\n"
   ]
  },
  {
   "cell_type": "code",
   "execution_count": 22,
   "id": "3d2127ea",
   "metadata": {},
   "outputs": [],
   "source": [
    "from abc import ABC, abstractmethod\n",
    "\n",
    "\n",
    "class Employee(ABC):\n",
    "    def __init__(self, car_name, company_name):\n",
    "        self.car_name = car_name\n",
    "        self.company_name = company_name\n",
    "\n",
    "    @property\n",
    "    def full_name(self):\n",
    "        return f\"{self.car_name} {self.company_name}\"\n",
    "\n",
    "    @abstractmethod\n",
    "    def get_salary(self):\n",
    "        pass\n"
   ]
  },
  {
   "cell_type": "code",
   "execution_count": 23,
   "id": "c3c64bf4",
   "metadata": {},
   "outputs": [],
   "source": [
    "class FulltimeEmployee(Employee):\n",
    "    def __init__(self, car_name, company_name, salary):\n",
    "        super().__init__(car_name, company_name)\n",
    "        self.salary = salary\n",
    "\n",
    "    def get_salary(self):\n",
    "        return self.salary\n"
   ]
  },
  {
   "cell_type": "code",
   "execution_count": 24,
   "id": "5ba33c68",
   "metadata": {},
   "outputs": [],
   "source": [
    "class HourlyEmployee(Employee):\n",
    "    def __init__(self, car_name, company_name, worked_hours, rate):\n",
    "        super().__init__(car_name, company_name)\n",
    "        self.worked_hours = worked_hours\n",
    "        self.rate = rate\n",
    "\n",
    "    def get_salary(self):\n",
    "        return self.worked_hours * self.rate\n"
   ]
  },
  {
   "cell_type": "code",
   "execution_count": 25,
   "id": "4e77b202",
   "metadata": {},
   "outputs": [],
   "source": [
    "class Payroll:\n",
    "    def __init__(self):\n",
    "        self.employee_list = []\n",
    "\n",
    "    def add(self, employee):\n",
    "        self.employee_list.append(employee)\n",
    "\n",
    "    def print(self):\n",
    "        for e in self.employee_list:\n",
    "            print(f\"{e.full_name} \\t ${e.get_salary()}\")\n"
   ]
  },
  {
   "cell_type": "code",
   "execution_count": 31,
   "id": "9a1f75e9",
   "metadata": {},
   "outputs": [
    {
     "name": "stdout",
     "output_type": "stream",
     "text": [
      "suzuki Deloite \t $6000\n",
      "zane mu-sigma \t $6500\n",
      "odi kpmg \t $10000\n",
      "ferari tcs \t $15000\n"
     ]
    }
   ],
   "source": [
    "payroll = Payroll()\n",
    "\n",
    "payroll.add(FulltimeEmployee('suzuki', 'Deloite', 6000))\n",
    "payroll.add(FulltimeEmployee('zane', 'mu-sigma', 6500))\n",
    "payroll.add(HourlyEmployee('odi', 'kpmg', 200, 50))\n",
    "payroll.add(HourlyEmployee('ferari', 'tcs', 150, 100))\n",
    "\n",
    "\n",
    "payroll.print()"
   ]
  },
  {
   "cell_type": "code",
   "execution_count": null,
   "id": "dc8c9777",
   "metadata": {},
   "outputs": [],
   "source": []
  }
 ],
 "metadata": {
  "kernelspec": {
   "display_name": "Python 3 (ipykernel)",
   "language": "python",
   "name": "python3"
  },
  "language_info": {
   "codemirror_mode": {
    "name": "ipython",
    "version": 3
   },
   "file_extension": ".py",
   "mimetype": "text/x-python",
   "name": "python",
   "nbconvert_exporter": "python",
   "pygments_lexer": "ipython3",
   "version": "3.9.7"
  }
 },
 "nbformat": 4,
 "nbformat_minor": 5
}
